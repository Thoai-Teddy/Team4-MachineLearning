{
 "cells": [
  {
   "cell_type": "markdown",
   "id": "84322410",
   "metadata": {},
   "source": [
    "# Nhóm 4\n",
    "\n",
    "### 22120116 - Đoàn Gia Huệ\n",
    "### 22120352 - Phạm Nguyễn Quang Thoại\n",
    "### 22120380 - Hồ Nhất Trí "
   ]
  },
  {
   "cell_type": "markdown",
   "id": "41cb6d9a",
   "metadata": {},
   "source": [
    "## Phase 1"
   ]
  },
  {
   "cell_type": "code",
   "execution_count": 6,
   "id": "82c2acfb",
   "metadata": {},
   "outputs": [
    {
     "data": {
      "text/plain": [
       "'c:\\\\Program Files\\\\Python313\\\\python.exe'"
      ]
     },
     "execution_count": 6,
     "metadata": {},
     "output_type": "execute_result"
    }
   ],
   "source": [
    "import sys\n",
    "sys.executable"
   ]
  },
  {
   "cell_type": "markdown",
   "id": "f3456d46",
   "metadata": {},
   "source": [
    "## Nhập Thư Viện Cần Thiết"
   ]
  },
  {
   "cell_type": "code",
   "execution_count": null,
   "id": "c09f2fc5",
   "metadata": {},
   "outputs": [],
   "source": [
    "import json\n",
    "import numpy as np\n",
    "import pandas as pd\n",
    "import matplotlib.pyplot as plt\n",
    "from sklearn import svm\n",
    "from sklearn.model_selection import train_test_split\n",
    "from sklearn.metrics import classification_report, accuracy_score, confusion_matrix, RocCurveDisplay, ConfusionMatrixDisplay"
   ]
  },
  {
   "cell_type": "markdown",
   "id": "884b68f3",
   "metadata": {},
   "source": [
    "## Mở Dữ Liệu Huấn Luyện"
   ]
  },
  {
   "cell_type": "code",
   "execution_count": 8,
   "id": "2084c7d2",
   "metadata": {},
   "outputs": [],
   "source": [
    "with open(\"train.json\", \"r\") as f:\n",
    "    train_data = json.load(f)\n",
    "\n",
    "X = [item[\"audio_embedding\"] for item in train_data]\n",
    "y = [item[\"is_turkey\"] for item in train_data]"
   ]
  },
  {
   "cell_type": "markdown",
   "id": "40cffbd0",
   "metadata": {},
   "source": [
    "## Tiền Xử Lý Dữ Liệu"
   ]
  },
  {
   "cell_type": "code",
   "execution_count": 9,
   "id": "dd24823c",
   "metadata": {},
   "outputs": [
    {
     "name": "stdout",
     "output_type": "stream",
     "text": [
      "Tổng số mẫu: 1195\n",
      "Số frame tối thiểu trong một mẫu: 2\n",
      "Số frame tối đa trong một mẫu: 10\n",
      "Số frame trung bình mỗi mẫu: 9.87\n"
     ]
    }
   ],
   "source": [
    "frame_counts = []\n",
    "\n",
    "for i, item in enumerate(X):\n",
    "    num_frames = len(item)\n",
    "    frame_counts.append(num_frames)\n",
    "\n",
    "print(f\"Tổng số mẫu: {len(X)}\")\n",
    "print(f\"Số frame tối thiểu trong một mẫu: {min(frame_counts)}\")\n",
    "print(f\"Số frame tối đa trong một mẫu: {max(frame_counts)}\")\n",
    "print(f\"Số frame trung bình mỗi mẫu: {sum(frame_counts) / len(frame_counts):.2f}\")\n"
   ]
  },
  {
   "cell_type": "markdown",
   "id": "ba573302",
   "metadata": {},
   "source": [
    "- Ta nhận thấy số frame trong các mẫu không giống nhau, dẫn đến kích thước đặc trưng đầu vào không đồng nhất giữa các mẫu, gây khó khăn khi xây dựng mô hình học máy. Vì vậy cần có bước chuẩn hóa dữ liệu đầu vào để mỗi mẫu có kích thước giống nhau.\n",
    "- Hàm `pad_embedding` giúp chuẩn hóa độ dài của mỗi mẫu audio_embedding sao cho tất cả các mẫu đều có cùng số frame (max_frames bằng 10, là số frame tối đa trong một mẫu)"
   ]
  },
  {
   "cell_type": "code",
   "execution_count": 10,
   "id": "1006f551",
   "metadata": {},
   "outputs": [],
   "source": [
    "max_frames = max(len(emb) for emb in X)\n",
    "\n",
    "def pad_embedding(embedding, max_len=max_frames, dim=128):\n",
    "    length = len(embedding)\n",
    "    if length < max_len:\n",
    "        padding = [[0]*dim] * (max_len - length)\n",
    "        return embedding + padding\n",
    "    else:\n",
    "        return embedding[:max_len]\n",
    "    "
   ]
  },
  {
   "cell_type": "markdown",
   "id": "c0dbcc32",
   "metadata": {},
   "source": [
    "Tiến hành chuẩn hóa lại dữ liệu huấn luyện"
   ]
  },
  {
   "cell_type": "code",
   "execution_count": 11,
   "id": "34131cc8",
   "metadata": {},
   "outputs": [],
   "source": [
    "X_padded = [pad_embedding(emb) for emb in X]"
   ]
  },
  {
   "cell_type": "markdown",
   "id": "dbd7b3f8",
   "metadata": {},
   "source": [
    "# Xây Dựng Mô Hình"
   ]
  },
  {
   "cell_type": "markdown",
   "id": "5e9149f2",
   "metadata": {},
   "source": [
    "Chia tập dữ liệu huấn luyện thành 2 tập: train và validation với tỷ lệ 8:2"
   ]
  },
  {
   "cell_type": "code",
   "execution_count": 12,
   "id": "1317dd5a",
   "metadata": {},
   "outputs": [],
   "source": [
    "X_train_pad, X_val_pad, y_train, y_val = train_test_split(\n",
    "    X_padded, y, test_size=0.2, random_state=42, stratify=y\n",
    ")"
   ]
  },
  {
   "cell_type": "markdown",
   "id": "12c92643",
   "metadata": {},
   "source": [
    "Chuẩn bị dữ liệu đúng định dạng cho mô hình học máy"
   ]
  },
  {
   "cell_type": "code",
   "execution_count": 13,
   "id": "d3cee543",
   "metadata": {},
   "outputs": [],
   "source": [
    "X_train_pad = np.array(X_train_pad)\n",
    "X_val_pad = np.array(X_val_pad)\n",
    "\n",
    "\n",
    "X_train_flat = X_train_pad.reshape(len(X_train_pad), -1)\n",
    "X_val_flat = X_val_pad.reshape(len(X_val_pad), -1)"
   ]
  },
  {
   "cell_type": "markdown",
   "id": "4d89236c",
   "metadata": {},
   "source": [
    "Khởi tạo mô hình SVM, huấn luyện và dự đoán"
   ]
  },
  {
   "cell_type": "code",
   "execution_count": 14,
   "id": "2bb7e29d",
   "metadata": {},
   "outputs": [],
   "source": [
    "clf = svm.SVC(kernel='linear')\n",
    "\n",
    "clf.fit(X_train_flat, y_train)\n",
    "\n",
    "y_pred = clf.predict(X_val_flat)"
   ]
  },
  {
   "cell_type": "markdown",
   "id": "396fa2d6",
   "metadata": {},
   "source": [
    "## Đánh Giá Mô Hình"
   ]
  },
  {
   "cell_type": "code",
   "execution_count": 15,
   "id": "1053202b",
   "metadata": {},
   "outputs": [
    {
     "name": "stdout",
     "output_type": "stream",
     "text": [
      "Accuracy: 0.9205020920502092\n"
     ]
    }
   ],
   "source": [
    "print(\"Accuracy:\", accuracy_score(y_val, y_pred))"
   ]
  },
  {
   "cell_type": "code",
   "execution_count": 16,
   "id": "33f568e7",
   "metadata": {},
   "outputs": [
    {
     "name": "stdout",
     "output_type": "stream",
     "text": [
      "              precision    recall  f1-score   support\n",
      "\n",
      "           0       0.91      0.96      0.93       141\n",
      "           1       0.93      0.87      0.90        98\n",
      "\n",
      "    accuracy                           0.92       239\n",
      "   macro avg       0.92      0.91      0.92       239\n",
      "weighted avg       0.92      0.92      0.92       239\n",
      "\n"
     ]
    }
   ],
   "source": [
    "print(classification_report(y_val, y_pred))"
   ]
  },
  {
   "cell_type": "code",
   "execution_count": 17,
   "id": "938fecf6",
   "metadata": {},
   "outputs": [
    {
     "name": "stdout",
     "output_type": "stream",
     "text": [
      "[[135   6]\n",
      " [ 13  85]]\n"
     ]
    }
   ],
   "source": [
    "print(confusion_matrix(y_val, y_pred))\n",
    "\n",
    "##    [[TN  FP]\n",
    "##    [FN  TP]]"
   ]
  },
  {
   "cell_type": "code",
   "execution_count": 24,
   "id": "fc6d8cdc",
   "metadata": {},
   "outputs": [
    {
     "data": {
      "image/png": "[encoded data removed]",
      "text/plain": [
       "<Figure size 640x480 with 2 Axes>"
      ]
     },
     "metadata": {},
     "output_type": "display_data"
    },
    {
     "data": {
      "image/png": "[encoded data removed]",
      "text/plain": [
       "<Figure size 640x480 with 1 Axes>"
      ]
     },
     "metadata": {},
     "output_type": "display_data"
    }
   ],
   "source": [
    "# ma trận nhầm lẫn \n",
    "# Giúp xem mô hình dự đoán đúng/sai bao nhiêu mẫu theo từng lớp:\n",
    "cm_display = ConfusionMatrixDisplay.from_predictions(y_val, y_pred, display_labels=[\"Không gà tây\", \"Gà tây\"], cmap=plt.cm.Blues)\n",
    "plt.title(\"Confusion Matrix SVM\")\n",
    "plt.show()\n",
    "\n",
    "\n",
    "# Đường cong ROC (ROC Curve)\n",
    "# Đánh giá khả năng phân biệt giữa 2 lớp theo xác suất đầu ra:\n",
    "clf = svm.SVC(kernel='linear', probability=True)  # Bật chế độ xác suất\n",
    "clf.fit(X_train_flat, y_train)\n",
    "y_pred_proba = clf.predict_proba(X_val_flat)[:, 1]  # Xác suất của lớp \"có gà tây\"\n",
    "\n",
    "RocCurveDisplay.from_predictions(y_val, y_pred_proba)\n",
    "plt.title(\"ROC Curve - SVM\")\n",
    "plt.show()\n",
    "\n"
   ]
  },
  {
   "cell_type": "markdown",
   "id": "32eae77d",
   "metadata": {},
   "source": [
    "## Dự Đoán Trên Tập TEST Và In Kết Quả Ra File CSV"
   ]
  },
  {
   "cell_type": "code",
   "execution_count": null,
   "id": "fb4936a2",
   "metadata": {},
   "outputs": [],
   "source": [
    "# DỰ ĐOÁN TRÊN X_TEST\n",
    "with open(\"data/test.json\", \"r\") as f:\n",
    "    test_data = json.load(f)\n",
    "\n",
    "X_test = [item[\"audio_embedding\"] for item in test_data]\n",
    "X_test_id = [item[\"vid_id\"] for item in test_data]\n",
    "\n",
    "X_test_padded = [pad_embedding(emb) for emb in X_test]\n",
    "\n",
    "X_test_padded = np.array(X_test_padded)\n",
    "X_test_flat = X_test_padded.reshape(len(X_test_padded), -1)\n",
    "\n",
    "test_pred = clf.predict(X_test_flat)\n",
    "\n",
    "for i in range(len(test_pred)):\n",
    "    print(X_test_id[i],\": \",test_pred[i])\n"
   ]
  },
  {
   "cell_type": "code",
   "execution_count": null,
   "id": "acff8377",
   "metadata": {},
   "outputs": [],
   "source": [
    "df = pd.DataFrame({\n",
    "    'vid_id': X_test_id,\n",
    "    'is_turkey': test_pred\n",
    "})\n",
    "\n",
    "df.to_csv('submission.csv', index=False, encoding='utf-8')"
   ]
  }
 ],
 "metadata": {
  "kernelspec": {
   "display_name": "Python 3",
   "language": "python",
   "name": "python3"
  },
  "language_info": {
   "codemirror_mode": {
    "name": "ipython",
    "version": 3
   },
   "file_extension": ".py",
   "mimetype": "text/x-python",
   "name": "python",
   "nbconvert_exporter": "python",
   "pygments_lexer": "ipython3",
   "version": "3.13.0"
  }
 },
 "nbformat": 4,
 "nbformat_minor": 5
}
